{
 "cells": [
  {
   "cell_type": "markdown",
   "id": "96aa97f8-9045-439d-a4e9-64fdc2cc9354",
   "metadata": {},
   "source": [
    "Input  : arr[] = {1, 2, 3}\n",
    "Output : arr[] = {3, 2, 1}\n",
    "\n",
    "Input :  arr[] = {4, 5, 1, 2}\n",
    "Output : arr[] = {2, 1, 5, 4}\n"
   ]
  },
  {
   "cell_type": "markdown",
   "id": "643707c9-0083-4ff6-aa97-27175b325dc8",
   "metadata": {},
   "source": [
    "1) Initialize start and end indexes as start = 0, end = n-1 \n",
    "2) In a loop, swap arr[start] with arr[end] and change start and end as follows : \n",
    "start = start +1, end = end – 1"
   ]
  },
  {
   "cell_type": "code",
   "execution_count": 9,
   "id": "2f0a60fd-bc41-4cc2-9a52-fe2a5ec2963c",
   "metadata": {},
   "outputs": [
    {
     "name": "stdout",
     "output_type": "stream",
     "text": [
      "[1, 2, 3, 4, 5, 6]\n",
      "Reversed List is \n",
      "[6, 5, 4, 3, 2, 1]\n"
     ]
    }
   ],
   "source": [
    "# Function to reverse A[] from start to end\n",
    "\n",
    "def reverseList(A,start,end):\n",
    "    while start < end:\n",
    "        A[start],A[end] = A[end],A[start]\n",
    "\n",
    "        start += 1\n",
    "        end -= 1\n",
    "        \n",
    "        \n",
    "A = [1,2,3,4,5,6]\n",
    "print(A)\n",
    "reverseList(A,0,5)\n",
    "print(\"Reversed List is \")\n",
    "print(A)"
   ]
  },
  {
   "cell_type": "code",
   "execution_count": null,
   "id": "fe868080-be8b-4267-8722-e069ecbb1ef7",
   "metadata": {},
   "outputs": [],
   "source": []
  },
  {
   "cell_type": "code",
   "execution_count": 10,
   "id": "3bec056c-4803-4999-9b88-ea80789fe201",
   "metadata": {},
   "outputs": [
    {
     "name": "stdout",
     "output_type": "stream",
     "text": [
      "A[start] is 545\n",
      "A[end] is 58\n",
      "A[start] is 365\n",
      "A[end] is 7\n",
      "A[start] is 356\n",
      "A[end] is 356\n"
     ]
    }
   ],
   "source": [
    "A = [13,545,365,356,7,58,68]\n",
    "start = 0\n",
    "end = 6\n",
    "\n",
    "while start < end:\n",
    "    A[start],A[end] = A[end],A[start]\n",
    "    \n",
    "    start += 1\n",
    "    end -= 1\n",
    "    print(\"A[start] is\",A[start])\n",
    "    print(\"A[end] is\",A[end])"
   ]
  },
  {
   "cell_type": "code",
   "execution_count": null,
   "id": "fa7c7d6a-7929-4e4b-b78b-4fc791708e9e",
   "metadata": {},
   "outputs": [],
   "source": []
  },
  {
   "cell_type": "code",
   "execution_count": null,
   "id": "9123ed76-6069-43fc-8dfc-c55c545ef481",
   "metadata": {},
   "outputs": [],
   "source": []
  },
  {
   "cell_type": "code",
   "execution_count": null,
   "id": "98e06ddc-7d42-4e53-bdc4-ec46f536f10c",
   "metadata": {},
   "outputs": [],
   "source": []
  },
  {
   "cell_type": "code",
   "execution_count": null,
   "id": "61f927a6-4c9a-4902-ae50-a0063a7c49e1",
   "metadata": {},
   "outputs": [],
   "source": []
  },
  {
   "cell_type": "code",
   "execution_count": null,
   "id": "b86307e7-3d98-487b-8eb3-3691a1786ec5",
   "metadata": {},
   "outputs": [],
   "source": []
  }
 ],
 "metadata": {
  "kernelspec": {
   "display_name": "Python [conda env:cv2.2]",
   "language": "python",
   "name": "conda-env-cv2.2-py"
  },
  "language_info": {
   "codemirror_mode": {
    "name": "ipython",
    "version": 3
   },
   "file_extension": ".py",
   "mimetype": "text/x-python",
   "name": "python",
   "nbconvert_exporter": "python",
   "pygments_lexer": "ipython3",
   "version": "3.7.11"
  }
 },
 "nbformat": 4,
 "nbformat_minor": 5
}
