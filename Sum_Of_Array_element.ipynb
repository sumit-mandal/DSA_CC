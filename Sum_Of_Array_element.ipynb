{
 "cells": [
  {
   "cell_type": "code",
   "execution_count": 5,
   "id": "537773a6-d00b-4c92-8219-4d61d1944baa",
   "metadata": {},
   "outputs": [
    {
     "name": "stdout",
     "output_type": "stream",
     "text": [
      "24\n"
     ]
    }
   ],
   "source": [
    "def sum_array(arr,n):\n",
    "    return (sum(arr))\n",
    "\n",
    "\n",
    "\n",
    "arr = [2,3,4,15]\n",
    "n = len(arr)\n",
    "\n",
    "print(sum_array(arr,n))"
   ]
  },
  {
   "cell_type": "code",
   "execution_count": null,
   "id": "5bac4b8c-62d1-4e18-88c9-425f1e6a423a",
   "metadata": {},
   "outputs": [],
   "source": []
  }
 ],
 "metadata": {
  "kernelspec": {
   "display_name": "Python [conda env:cv2.2]",
   "language": "python",
   "name": "conda-env-cv2.2-py"
  },
  "language_info": {
   "codemirror_mode": {
    "name": "ipython",
    "version": 3
   },
   "file_extension": ".py",
   "mimetype": "text/x-python",
   "name": "python",
   "nbconvert_exporter": "python",
   "pygments_lexer": "ipython3",
   "version": "3.7.11"
  }
 },
 "nbformat": 4,
 "nbformat_minor": 5
}
