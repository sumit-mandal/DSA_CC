{
 "cells": [
  {
   "cell_type": "code",
   "execution_count": 2,
   "id": "cd900dc5-5d6d-45c3-9a00-a1d7ef4ac98c",
   "metadata": {},
   "outputs": [
    {
     "name": "stdout",
     "output_type": "stream",
     "text": [
      "21\n"
     ]
    }
   ],
   "source": [
    "def getsum(n):\n",
    "    \n",
    "    sum = 0\n",
    "    while (n != 0):\n",
    "        sum = sum + int(n % 10)\n",
    "        n = int(n/10)\n",
    "        \n",
    "    return sum\n",
    "\n",
    "n = 687\n",
    "print(getsum(n)) "
   ]
  },
  {
   "cell_type": "code",
   "execution_count": null,
   "id": "82a027c7-ea36-4796-9911-69f12c63c466",
   "metadata": {},
   "outputs": [],
   "source": []
  }
 ],
 "metadata": {
  "kernelspec": {
   "display_name": "Python [conda env:cv2.2]",
   "language": "python",
   "name": "conda-env-cv2.2-py"
  },
  "language_info": {
   "codemirror_mode": {
    "name": "ipython",
    "version": 3
   },
   "file_extension": ".py",
   "mimetype": "text/x-python",
   "name": "python",
   "nbconvert_exporter": "python",
   "pygments_lexer": "ipython3",
   "version": "3.7.11"
  }
 },
 "nbformat": 4,
 "nbformat_minor": 5
}
