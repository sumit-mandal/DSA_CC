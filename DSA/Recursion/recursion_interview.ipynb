{
 "cells": [
  {
   "cell_type": "markdown",
   "id": "396674f5-daf0-4350-8815-7ef23c7a3bbe",
   "metadata": {},
   "source": [
    "### Sum of a digit"
   ]
  },
  {
   "cell_type": "code",
   "execution_count": 17,
   "id": "6571b319-89c7-42e9-9094-4a539d0dbf21",
   "metadata": {},
   "outputs": [
    {
     "data": {
      "text/plain": [
       "9"
      ]
     },
     "execution_count": 17,
     "metadata": {},
     "output_type": "execute_result"
    }
   ],
   "source": [
    "def sum_of_digit(n):\n",
    "    assert n>=0 and int(n) == n, \"The number should be non-negative\"\n",
    "    if n==0:\n",
    "        return 0\n",
    "    return int(n%10) + sum_of_digit(int(n/10))\n",
    "    \n",
    "sum_of_digit(126)"
   ]
  },
  {
   "cell_type": "markdown",
   "id": "c75dc6e8-0367-44be-897f-ddded8824ef7",
   "metadata": {},
   "source": [
    "### Power of a number using recursion"
   ]
  },
  {
   "cell_type": "code",
   "execution_count": 21,
   "id": "dc75b30d-09d1-47e4-9a8a-c81667d04baa",
   "metadata": {},
   "outputs": [
    {
     "data": {
      "text/plain": [
       "16"
      ]
     },
     "execution_count": 21,
     "metadata": {},
     "output_type": "execute_result"
    }
   ],
   "source": [
    "def power(base,exp):\n",
    "    assert exp>=0 and int(exp) == exp, \"The exponent must be non negative\"\n",
    "    if exp == 0:\n",
    "        return 1\n",
    "    return base * power(base,exp-1)\n",
    "\n",
    "power(2,4)"
   ]
  },
  {
   "cell_type": "markdown",
   "id": "bf6f0dc5-645e-4a7a-9b15-dda8d7886189",
   "metadata": {},
   "source": [
    "### Greatest common divisor of two number"
   ]
  },
  {
   "cell_type": "code",
   "execution_count": 55,
   "id": "fbdc227f-2a3a-4d43-af2f-81387bec4029",
   "metadata": {},
   "outputs": [],
   "source": [
    "### Eucledean algorithm\n",
    "\n",
    "def gcd(a,b):\n",
    "    assert int(a) == a and int(b) ==b, 'The number must be integer'\n",
    "    if a < 0:\n",
    "        a = -1 * a\n",
    "    if b < 0:\n",
    "        b = -1 *b\n",
    "    if b==0:\n",
    "        return a\n",
    "    return gcd(b,a%b)"
   ]
  },
  {
   "cell_type": "code",
   "execution_count": 56,
   "id": "1c22c607-9d99-4550-801e-fdadcd755924",
   "metadata": {},
   "outputs": [
    {
     "data": {
      "text/plain": [
       "6"
      ]
     },
     "execution_count": 56,
     "metadata": {},
     "output_type": "execute_result"
    }
   ],
   "source": [
    "gcd(48,18)"
   ]
  },
  {
   "cell_type": "code",
   "execution_count": 57,
   "id": "5f824a36-52dc-460a-b39f-d7ae485bfcf1",
   "metadata": {},
   "outputs": [
    {
     "name": "stdout",
     "output_type": "stream",
     "text": [
      "12\n",
      "6\n",
      "0\n"
     ]
    }
   ],
   "source": [
    "print(48%18)\n",
    "print(18%12)\n",
    "print(12%6)\n"
   ]
  },
  {
   "cell_type": "markdown",
   "id": "581a9778-d221-44f8-b1c8-6d31e6d34381",
   "metadata": {},
   "source": [
    "### Convert decimal to binary\n",
    "\n",
    "- Divide the number by 2\n",
    "- Get the integer quotient for the next iteration\n",
    "- Get the remainder for binary digit\n",
    "- Repeat the steps until the quotient is equal to 0"
   ]
  },
  {
   "cell_type": "code",
   "execution_count": 61,
   "id": "cf3c58a6-f0f0-4d7b-91cf-c80863a22893",
   "metadata": {},
   "outputs": [
    {
     "name": "stdout",
     "output_type": "stream",
     "text": [
      "6\n",
      "3\n",
      "1\n",
      "0\n"
     ]
    }
   ],
   "source": [
    "print(int(13/2))\n",
    "print(int(6/2))\n",
    "print(int(3/2))\n",
    "print(int(1/2))"
   ]
  },
  {
   "cell_type": "code",
   "execution_count": 77,
   "id": "3482956f-0e87-4c1f-8d34-e08511402fa3",
   "metadata": {},
   "outputs": [
    {
     "data": {
      "text/plain": [
       "1010"
      ]
     },
     "execution_count": 77,
     "metadata": {},
     "output_type": "execute_result"
    }
   ],
   "source": [
    "def decimal_to_binary(n):\n",
    "    assert int(n) == n, 'The parameter must be an integer only'\n",
    "    if n==0:\n",
    "        return 0\n",
    "    return n%2 + 10*decimal_to_binary(n//2)\n",
    "\n",
    "decimal_to_binary(10)"
   ]
  },
  {
   "cell_type": "markdown",
   "id": "c4f0df56-eb41-4f6a-bd61-d50a63380303",
   "metadata": {},
   "source": [
    "### Product of an array"
   ]
  },
  {
   "cell_type": "code",
   "execution_count": 80,
   "id": "a48439c2-f8ee-455a-b77e-9f2d5843c419",
   "metadata": {},
   "outputs": [],
   "source": [
    "def productOfArray(arr):\n",
    "    if len(arr) == 0:\n",
    "        return 1\n",
    "    return arr[0] * productOfArray(arr[1:])"
   ]
  },
  {
   "cell_type": "code",
   "execution_count": 81,
   "id": "951c7ecf-680a-4262-9715-22a8af5362ee",
   "metadata": {},
   "outputs": [
    {
     "data": {
      "text/plain": [
       "6"
      ]
     },
     "execution_count": 81,
     "metadata": {},
     "output_type": "execute_result"
    }
   ],
   "source": [
    "productOfArray([1,2,3])"
   ]
  },
  {
   "cell_type": "code",
   "execution_count": 78,
   "id": "ec1577ed-1ecf-4290-9468-74579cf37a47",
   "metadata": {},
   "outputs": [
    {
     "name": "stderr",
     "output_type": "stream",
     "text": [
      "warning: LF will be replaced by CRLF in DSA/Recursion/recursion_interview.ipynb.\n",
      "The file will have its original line endings in your working directory\n"
     ]
    },
    {
     "name": "stdout",
     "output_type": "stream",
     "text": [
      "[main 61d7312] 16:26/13-02-2022\n",
      " 1 file changed, 258 insertions(+)\n",
      " create mode 100644 DSA/Recursion/recursion_interview.ipynb\n"
     ]
    },
    {
     "name": "stderr",
     "output_type": "stream",
     "text": [
      "To https://github.com/sumit-mandal/DSA_CC.git\n",
      "   99710bb..61d7312  main -> main\n"
     ]
    }
   ],
   "source": [
    "! git add recursion_interview.ipynb\n",
    "! git commit -m \"16:26/13-02-2022\"\n",
    "! git push origin main"
   ]
  },
  {
   "cell_type": "code",
   "execution_count": null,
   "id": "7e20d99a-1965-4dc5-83f4-39a5c9d536fc",
   "metadata": {},
   "outputs": [],
   "source": []
  },
  {
   "cell_type": "code",
   "execution_count": null,
   "id": "3f53b593-c0a7-4146-a98c-6e48e9d76e7b",
   "metadata": {},
   "outputs": [],
   "source": []
  }
 ],
 "metadata": {
  "kernelspec": {
   "display_name": "Python [conda env:cvprojenv]",
   "language": "python",
   "name": "conda-env-cvprojenv-py"
  },
  "language_info": {
   "codemirror_mode": {
    "name": "ipython",
    "version": 3
   },
   "file_extension": ".py",
   "mimetype": "text/x-python",
   "name": "python",
   "nbconvert_exporter": "python",
   "pygments_lexer": "ipython3",
   "version": "3.7.11"
  }
 },
 "nbformat": 4,
 "nbformat_minor": 5
}
