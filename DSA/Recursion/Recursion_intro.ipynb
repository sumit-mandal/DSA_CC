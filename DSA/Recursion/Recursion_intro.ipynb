{
 "cells": [
  {
   "cell_type": "code",
   "execution_count": 1,
   "id": "57240512-4c51-4b58-aec1-1c1dbb00531b",
   "metadata": {},
   "outputs": [
    {
     "name": "stdout",
     "output_type": "stream",
     "text": [
      "n is less than 1\n",
      "1\n",
      "2\n",
      "3\n",
      "4\n"
     ]
    }
   ],
   "source": [
    "def recursiveMethod(n):\n",
    "    if n<1:\n",
    "        print(\"n is less than 1\")\n",
    "        \n",
    "    else:\n",
    "        recursiveMethod(n-1)\n",
    "        print(n)\n",
    "        \n",
    "recursiveMethod(4)"
   ]
  },
  {
   "cell_type": "markdown",
   "id": "c5bc6031-941b-4a0b-978a-711e9d82985d",
   "metadata": {},
   "source": [
    "## Recursive Vs Iterative"
   ]
  },
  {
   "cell_type": "code",
   "execution_count": 2,
   "id": "39f57dde-de42-4719-a263-7cfa8eb1e794",
   "metadata": {},
   "outputs": [],
   "source": [
    "# Recursive\n",
    "\n",
    "def powerOfTwo(n):\n",
    "    if n==0:\n",
    "        return 1\n",
    "    else:\n",
    "        power = powerOfTwo(n-1)\n",
    "        return power * 2"
   ]
  },
  {
   "cell_type": "code",
   "execution_count": 3,
   "id": "6a09818d-7cc0-4862-b007-a7cee7326aca",
   "metadata": {},
   "outputs": [
    {
     "data": {
      "text/plain": [
       "32"
      ]
     },
     "execution_count": 3,
     "metadata": {},
     "output_type": "execute_result"
    }
   ],
   "source": [
    "powerOfTwo(5)"
   ]
  },
  {
   "cell_type": "code",
   "execution_count": 4,
   "id": "189e07c3-6c98-498b-a3bc-08418361333c",
   "metadata": {},
   "outputs": [],
   "source": [
    "# Iterative method\n",
    "\n",
    "def powerOfTwoIt(n):\n",
    "    i = 0\n",
    "    power = 1\n",
    "    while i<n:\n",
    "        power = power * 2\n",
    "        i = i + 1\n",
    "    return power"
   ]
  },
  {
   "cell_type": "code",
   "execution_count": 5,
   "id": "b644db7a-9413-4ea3-baa2-b61999d326f7",
   "metadata": {},
   "outputs": [
    {
     "data": {
      "text/plain": [
       "32"
      ]
     },
     "execution_count": 5,
     "metadata": {},
     "output_type": "execute_result"
    }
   ],
   "source": [
    "powerOfTwoIt(5)"
   ]
  },
  {
   "cell_type": "markdown",
   "id": "c2846cd5-c1f1-451d-97fb-edbe83250b8d",
   "metadata": {},
   "source": [
    "## Factorial"
   ]
  },
  {
   "cell_type": "code",
   "execution_count": 6,
   "id": "9f662191-327e-495f-8fbd-100026e07e66",
   "metadata": {},
   "outputs": [
    {
     "data": {
      "text/plain": [
       "24"
      ]
     },
     "execution_count": 6,
     "metadata": {},
     "output_type": "execute_result"
    }
   ],
   "source": [
    "def factorial(n):\n",
    "    assert n>= 0 and int(n) == n, 'The integer must be positive integer only'\n",
    "    if n==0:\n",
    "        return 1\n",
    "    elif n==1:\n",
    "        return 1\n",
    "    else:\n",
    "        return n * factorial(n-1)\n",
    "      \n",
    "factorial(4)"
   ]
  },
  {
   "cell_type": "markdown",
   "id": "675d8c49-2d3d-4bed-b7e6-6d417d22e717",
   "metadata": {},
   "source": [
    "## Fibonaaci"
   ]
  },
  {
   "cell_type": "code",
   "execution_count": 17,
   "id": "0b4ca2fc-4525-43b3-a09c-b8ec42733e13",
   "metadata": {},
   "outputs": [],
   "source": [
    "def fibonnaci(n):\n",
    "    assert n>=0 and int(n)==n, \"The integer must be non-negetive\"\n",
    "    if n==0:\n",
    "        return n\n",
    "    elif n==1:\n",
    "        return n\n",
    "    else: \n",
    "        return fibonnaci(n-1) + fibonnaci(n-2)"
   ]
  },
  {
   "cell_type": "code",
   "execution_count": 25,
   "id": "6df79a76-6757-43c3-9872-ffaecd0ca71a",
   "metadata": {},
   "outputs": [
    {
     "name": "stdin",
     "output_type": "stream",
     "text": [
      "Enter the index number of fibonaaci to be found 8\n"
     ]
    },
    {
     "data": {
      "text/plain": [
       "21"
      ]
     },
     "execution_count": 25,
     "metadata": {},
     "output_type": "execute_result"
    }
   ],
   "source": [
    "n = int(input(\"Enter the index number of fibonaaci to be found\"))\n",
    "fibonnaci(n)"
   ]
  },
  {
   "cell_type": "code",
   "execution_count": null,
   "id": "673b7b65-c220-4412-9198-81394902cc5f",
   "metadata": {},
   "outputs": [],
   "source": [
    "! git add Recursion_intro.ipynb\n",
    "! git commit -m \"14:39/12-02-2022\"\n",
    "! git push origin main"
   ]
  },
  {
   "cell_type": "code",
   "execution_count": null,
   "id": "8b5d9c93-d809-4377-a1eb-458794887c67",
   "metadata": {},
   "outputs": [],
   "source": []
  },
  {
   "cell_type": "code",
   "execution_count": null,
   "id": "81bc5373-ccc4-40f4-8e00-01609a79a5b9",
   "metadata": {},
   "outputs": [],
   "source": []
  },
  {
   "cell_type": "code",
   "execution_count": null,
   "id": "5329a9b1-adde-4fa1-a446-655296346342",
   "metadata": {},
   "outputs": [],
   "source": []
  }
 ],
 "metadata": {
  "kernelspec": {
   "display_name": "Python [conda env:cvprojenv]",
   "language": "python",
   "name": "conda-env-cvprojenv-py"
  },
  "language_info": {
   "codemirror_mode": {
    "name": "ipython",
    "version": 3
   },
   "file_extension": ".py",
   "mimetype": "text/x-python",
   "name": "python",
   "nbconvert_exporter": "python",
   "pygments_lexer": "ipython3",
   "version": "3.7.11"
  }
 },
 "nbformat": 4,
 "nbformat_minor": 5
}
