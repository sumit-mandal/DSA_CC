{
 "cells": [
  {
   "cell_type": "markdown",
   "id": "c47ae2b7-d225-4266-947b-17d51d6f5a7a",
   "metadata": {},
   "source": [
    "Write a Python function to return minimum and maximum in an array. Your program should make the minimum number of comparisons. "
   ]
  },
  {
   "cell_type": "code",
   "execution_count": 7,
   "id": "9a89162f-c476-444c-b782-115feb5aff6d",
   "metadata": {},
   "outputs": [],
   "source": [
    "class pair:\n",
    "    def __init__(self):\n",
    "        self.min = 0\n",
    "        self.max = 0\n",
    "        \n",
    "        \n",
    "    def getMinMax(arr:list,n:int) -> pair:\n",
    "        minmax = pair()\n",
    "        \n",
    "        #If there is only one element then return it as min and max both\n",
    "        if n == 1:\n",
    "            minmax.max = arr[0]\n",
    "            minmax.min = arr[0]\n",
    "            return minmax\n",
    "            \n",
    "        # If there are more than one elements, then initialize min and max\n",
    "        else:\n",
    "            minmax.max = arr[1]\n",
    "            minmax.min = arr[0]\n",
    "            \n",
    "        for i in range(2,n):\n",
    "            if arr[i] > minmax.max:\n",
    "                minmax.max = arr[i]\n",
    "            elif arr[i] < minmax.min:\n",
    "                minmax.min = arr[i]\n",
    "                \n",
    "        return minmax\n",
    "    \n"
   ]
  },
  {
   "cell_type": "code",
   "execution_count": 8,
   "id": "8061e8dd-8b01-458d-b4fb-3b4212c8ab92",
   "metadata": {},
   "outputs": [
    {
     "name": "stdout",
     "output_type": "stream",
     "text": [
      "Minimum element is 1\n",
      "Maximum element is 3000\n"
     ]
    }
   ],
   "source": [
    "arr = [1000, 11, 445, 1, 330, 3000]\n",
    "arr_size = 6\n",
    "minmax = getMinMax(arr,arr_size)\n",
    "print(\"Minimum element is\",minmax.min)\n",
    "print(\"Maximum element is\",minmax.max)"
   ]
  },
  {
   "cell_type": "code",
   "execution_count": 21,
   "id": "5fb7bce3-95d8-40ff-b4c6-fd6f1de03b7e",
   "metadata": {},
   "outputs": [
    {
     "name": "stdout",
     "output_type": "stream",
     "text": [
      "arr[i] 445\n",
      "arr[i] 1\n",
      "arr[i] 330\n",
      "arr[i] 3000\n",
      "1\n",
      "3000\n"
     ]
    }
   ],
   "source": [
    "arr = [1000, 11, 445, 1, 330, 3000]\n",
    "n = 6\n",
    "for i in range(2,n):\n",
    "    print('arr[i]',arr[i])\n",
    "    if arr[i] > minmax.max:\n",
    "        \n",
    "        minmax.max = arr[i]\n",
    "        \n",
    "    elif arr[i] < minmax.min:\n",
    "        \n",
    "        minmax.min = arr[i]\n",
    "        \n",
    "print(minmax.min)\n",
    "print(minmax.max)"
   ]
  },
  {
   "cell_type": "code",
   "execution_count": null,
   "id": "84e60293-30ed-4cb1-bd5b-8cbcb8442756",
   "metadata": {},
   "outputs": [],
   "source": []
  }
 ],
 "metadata": {
  "kernelspec": {
   "display_name": "Python [conda env:cv2.2]",
   "language": "python",
   "name": "conda-env-cv2.2-py"
  },
  "language_info": {
   "codemirror_mode": {
    "name": "ipython",
    "version": 3
   },
   "file_extension": ".py",
   "mimetype": "text/x-python",
   "name": "python",
   "nbconvert_exporter": "python",
   "pygments_lexer": "ipython3",
   "version": "3.7.11"
  }
 },
 "nbformat": 4,
 "nbformat_minor": 5
}
